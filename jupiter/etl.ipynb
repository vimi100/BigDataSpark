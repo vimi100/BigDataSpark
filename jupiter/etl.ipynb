{
 "cells": [
  {
   "cell_type": "code",
   "execution_count": 24,
   "id": "15e72df1-405b-4c31-a9b2-46e4f0f92019",
   "metadata": {},
   "outputs": [
    {
     "name": "stdout",
     "output_type": "stream",
     "text": [
      "+-------------------+------------------+------------+--------------------+------------------+--------------------+-----------------+-----------------+------------------+-----------------+----------------+--------------------+--------------+------------------+------------+----------------+-------------+----------------+---------+-------------+----------------+----------+--------------+-------------------+-----------+-------------+------------+--------------------+------------+--------------+-------------+------------+-------------+----------------+--------------------+--------------+---------------+--------------------+-------------------+-------------+------------------+--------------------+--------------+----------------+-------------+----------------+----+----------------+--------------+---------------+\n",
      "|customer_first_name|customer_last_name|customer_age|      customer_email|  customer_country|customer_postal_code|customer_pet_type|customer_pet_name|customer_pet_breed|seller_first_name|seller_last_name|        seller_email|seller_country|seller_postal_code|product_name|product_category|product_price|product_quantity|sale_date|sale_quantity|sale_total_price|store_name|store_location|         store_city|store_state|store_country| store_phone|         store_email|pet_category|product_weight|product_color|product_size|product_brand|product_material| product_description|product_rating|product_reviews|product_release_date|product_expiry_date|supplier_name|  supplier_contact|      supplier_email|supplier_phone|supplier_address|supplier_city|supplier_country|  id|sale_customer_id|sale_seller_id|sale_product_id|\n",
      "+-------------------+------------------+------------+--------------------+------------------+--------------------+-----------------+-----------------+------------------+-----------------+----------------+--------------------+--------------+------------------+------------+----------------+-------------+----------------+---------+-------------+----------------+----------+--------------+-------------------+-----------+-------------+------------+--------------------+------------+--------------+-------------+------------+-------------+----------------+--------------------+--------------+---------------+--------------------+-------------------+-------------+------------------+--------------------+--------------+----------------+-------------+----------------+----+----------------+--------------+---------------+\n",
      "|              Jandy|           Thaxton|          82|    cobee2y@webs.com|            Mexico|               64103|             bird|            Olive|           Siamese|           Cyndia|            Obee|    cobee2y@admin.ch|        Poland|            83-333|   Bird Cage|            Food|         42.4|              37| 4/1/2021|            5|          174.87|      Kazu|      Room 303|         San Isidro|        NLE|      Vietnam|818-665-4340|     cobee2y@mtv.com|       Birds|           6.3|       Orange|       Small|       Vinder|           Glass|Nullam sit amet t...|           4.8|            826|            6/6/2010|         10/12/2028|        Twimm|       Cyndia Obee|   cobee2y@fotki.com|  320-229-7852|        Suite 77|     Chmielno|           China|1110|            1126|          1116|           1155|\n",
      "|              Waldo|         Tradewell|          34|eblumson2z@quantc...|Dominican Republic|               11205|              cat|            Marja|Labrador Retriever|         Ernaline|         Blumson|eblumson2z@cocolo...|         China|                  |     Cat Toy|            Cage|        43.53|              76|3/25/2021|            4|           179.8|      Vitz|      Room 917|Santo Domingo Oeste|           |       Poland|924-392-1813|eblumson2z@ocn.ne.jp|        Fish|          24.0|        Khaki|       Small|  Brainsphere|        Aluminum|Nullam porttitor ...|           2.0|            150|          11/16/2021|          2/17/2025|         Tazz|  Ernaline Blumson|eblumson2z@comsen...|  482-375-7051|         Apt 185|       Tangxi|         Nigeria|1111|            1127|          1117|           1156|\n",
      "|            Patrice|              Cadd|          52|bbedborough30@int...|             China|                    |              cat|             Drud|           Siamese|          Barbara|      Bedborough|bbedborough30@joo...|     Argentina|              6451|     Cat Toy|            Food|        34.72|              61|2/20/2021|            5|          105.13|    Voonyx|     Room 1990|              Gelin|           |      Ukraine|460-549-2212|bbedborough30@gmp...|        Dogs|          18.9|       Fuscia|      Medium|        Meejo|         Plastic|Vestibulum ac est...|           4.4|            350|           5/11/2012|          10/7/2025|         Izio|Barbara Bedborough|bbedborough30@usa...|  932-189-1877|     PO Box 2487|      Pehuajó|       Indonesia|1112|            1128|          1118|           1157|\n",
      "|            Brittan|          Berryann|          24| spepperd31@sohu.com|             China|                    |              dog|            Natty|          Parakeet|        Shandeigh|         Pepperd|  spepperd31@loc.gov|   Afghanistan|                  |    Dog Food|             Toy|        90.04|              78| 5/8/2021|            1|          321.95| Browsebug|      Room 829|          Shangbahe|           |     Colombia|697-443-2951|  spepperd31@ftc.gov|    Reptiles|          36.5|         Blue|       Large|         Oloo|           Stone|Fusce consequat. ...|           1.6|            973|          12/10/2019|          7/18/2028|       Tagpad| Shandeigh Pepperd|spepperd31@hatena...|  459-565-3922|    PO Box 72187|      Bāzārak|            Peru|1113|            1129|          1119|           1158|\n",
      "+-------------------+------------------+------------+--------------------+------------------+--------------------+-----------------+-----------------+------------------+-----------------+----------------+--------------------+--------------+------------------+------------+----------------+-------------+----------------+---------+-------------+----------------+----------+--------------+-------------------+-----------+-------------+------------+--------------------+------------+--------------+-------------+------------+-------------+----------------+--------------------+--------------+---------------+--------------------+-------------------+-------------+------------------+--------------------+--------------+----------------+-------------+----------------+----+----------------+--------------+---------------+\n",
      "only showing top 4 rows\n",
      "\n"
     ]
    }
   ],
   "source": [
    "from pyspark.sql import SparkSession\n",
    "\n",
    "spark = SparkSession.builder \\\n",
    "    .appName(\"ETL_Pipeline\") \\\n",
    "    .config(\"spark.jars.packages\", \"org.postgresql:postgresql:42.2.27\") \\\n",
    "    .getOrCreate()\n",
    "\n",
    "jdbc_url = \"jdbc:postgresql://host.docker.internal:5432/postgres\"\n",
    "properties = {\n",
    "    \"user\": \"postgres\",\n",
    "    \"password\": \"Rbkkth3920\",\n",
    "    \"driver\": \"org.postgresql.Driver\"\n",
    "}\n",
    "\n",
    "df = spark.read.jdbc(url=jdbc_url, table=\"mock_data\", properties=properties)\n",
    "df.show(4)"
   ]
  },
  {
   "cell_type": "code",
   "execution_count": 25,
   "id": "2af27e39-a5c9-4787-a470-03c35b146b00",
   "metadata": {},
   "outputs": [
    {
     "name": "stdout",
     "output_type": "stream",
     "text": [
      "+-----------+----------+---------+---+--------------------+------------+-----------+\n",
      "|customer_id|first_name|last_name|age|               email|country_name|postal_code|\n",
      "+-----------+----------+---------+---+--------------------+------------+-----------+\n",
      "|          1|    Ardith|    Haack| 69|fjagglikl@trellia...|   Indonesia|           |\n",
      "|          2|     Julie|    Leete| 45|cfeehan9i@instagr...|       China|           |\n",
      "|          3|    Selene|  Le Page| 83|msheplandcu@yello...|       Egypt|           |\n",
      "|          4|     Ibbie|  Hannent| 53|pclowneydd@netvib...|       China|           |\n",
      "|          5|  Tarrance|   Panons| 44|kweldonr0@creativ...|      Poland|     74-120|\n",
      "|          6|    Shanda|  Monkley| 47|mstickensju@delic...|     Comoros|           |\n",
      "|          7|   Myrlene|  Fillery| 76|   abartlema@pbs.org|        Peru|           |\n",
      "|          8|     Costa|    Happs| 42| ppalkh0@storify.com|       China|           |\n",
      "|          9|       Dev|   McLese| 71| jlutzo0@4shared.com| Netherlands|       7504|\n",
      "|         10|     Lilly|   Scalia| 81|    oproger7@cnn.com|   Guatemala|      14016|\n",
      "+-----------+----------+---------+---+--------------------+------------+-----------+\n",
      "only showing top 10 rows\n",
      "\n"
     ]
    }
   ],
   "source": [
    "dim_customer = df.select(\n",
    "    df.sale_customer_id.alias(\"customer_id\"),\n",
    "    df.customer_first_name.alias(\"first_name\"),\n",
    "    df.customer_last_name.alias(\"last_name\"),\n",
    "    df.customer_age.alias(\"age\"),\n",
    "    df.customer_email.alias(\"email\"),\n",
    "    df.customer_country.alias(\"country_name\"),\n",
    "    df.customer_postal_code.alias(\"postal_code\")\n",
    ").dropDuplicates([\"customer_id\"])\n",
    "\n",
    "dim_customer.show(10)\n"
   ]
  },
  {
   "cell_type": "code",
   "execution_count": 26,
   "id": "ff4ad93d-d1aa-426f-a683-c3f0f59c4a9c",
   "metadata": {},
   "outputs": [
    {
     "name": "stdout",
     "output_type": "stream",
     "text": [
      "+---------+----------+---------+--------------------+------------+-----------+\n",
      "|seller_id|first_name|last_name|               email|country_name|postal_code|\n",
      "+---------+----------+---------+--------------------+------------+-----------+\n",
      "|      960|   Kirsten|   Grouse|    kgrouse9@tiny.cc|       Japan|   990-0711|\n",
      "|     6753|    Tanney|   Robker|trobkerkd@columbi...|    Honduras|           |\n",
      "|     1504|      Erin| Bradwell|ebradwelldn@fastc...|   Indonesia|           |\n",
      "|      458|     Pavia|Guerreiro|pguerreirocm@scri...|    Portugal|   4830-433|\n",
      "|      556|   Steward|  Wayvill| swayvillfb@time.com|      Russia|     618593|\n",
      "|      603|   Chloris|  Ostrich|costrichgn@devhub...|   Argentina|       5442|\n",
      "|      707|       Lee|     Shah|lshahji@sciencedi...| Philippines|       9611|\n",
      "|     1211|     Naomi|  Postill| npostill5i@ucoz.com|       China|           |\n",
      "|     1460|      Tris|    Czaja|tczajacg@comsenz.com|     Belarus|           |\n",
      "|     1467|    Morgen|  Himpson| mhimpsoncn@narod.ru|       China|           |\n",
      "+---------+----------+---------+--------------------+------------+-----------+\n",
      "only showing top 10 rows\n",
      "\n"
     ]
    }
   ],
   "source": [
    "dim_seller = df.select(\n",
    "    df.sale_seller_id.alias(\"seller_id\"),  \n",
    "    df.seller_first_name.alias(\"first_name\"),\n",
    "    df.seller_last_name.alias(\"last_name\"),\n",
    "    df.seller_email.alias(\"email\"),\n",
    "    df.seller_country.alias(\"country_name\"),\n",
    "    df.seller_postal_code.alias(\"postal_code\")\n",
    ").distinct()\n",
    "\n",
    "dim_seller.show(10)\n"
   ]
  },
  {
   "cell_type": "code",
   "execution_count": 27,
   "id": "b03a5054-df15-4af6-9ddc-9abc6c45376a",
   "metadata": {},
   "outputs": [
    {
     "name": "stdout",
     "output_type": "stream",
     "text": [
      "+----------+---------+-------------+-----+--------+------+----------+--------------------+------+-------+------------+-----------+\n",
      "|product_id|     name|category_name|price|quantity|weight|brand_name|         description|rating|reviews|release_date|expiry_date|\n",
      "+----------+---------+-------------+-----+--------+------+----------+--------------------+------+-------+------------+-----------+\n",
      "|        27|Bird Cage|         Food|32.07|       1|  34.7|     Quatz|Nullam sit amet t...|   4.1|    924|  12/24/2017|  7/11/2030|\n",
      "|       361|Bird Cage|          Toy|47.73|      44|  17.8|     Skiba|Sed sagittis. Nam...|   4.6|    874|    6/5/2022|   7/9/2030|\n",
      "|       495|  Cat Toy|         Food| 3.61|      37|  32.0|Shuffletag|Fusce consequat. ...|   1.5|    855|    7/5/2011|  4/30/2025|\n",
      "|       953| Dog Food|         Food|28.08|      69|  34.8|   Meembee|Proin leo odio, p...|   2.6|    798|    1/2/2016| 10/10/2026|\n",
      "|      1174|Bird Cage|         Cage|34.86|      69|  32.7|      Kazu|Praesent blandit....|   1.7|    330|   10/6/2015|   2/6/2027|\n",
      "|      1288|  Cat Toy|         Cage| 7.76|      33|  37.3|   Bluejam|Duis consequat du...|   2.4|    302|   2/18/2018|   3/4/2027|\n",
      "|      1916|Bird Cage|         Cage|88.99|      42|   7.8|Fivebridge|Proin leo odio, p...|   4.9|     52|   5/28/2011|   4/1/2027|\n",
      "|      2172|  Cat Toy|         Food|86.03|      83|  21.4|    Podcat|Lorem ipsum dolor...|   4.0|    299|   12/3/2010|  8/16/2025|\n",
      "|      2368|  Cat Toy|         Food|31.88|      33|  22.8|      Yodo|Maecenas leo odio...|   1.7|    364|   4/18/2015|   2/2/2030|\n",
      "|      2413| Dog Food|         Food| 43.0|       2|   5.6|  Blogspan|Maecenas tristiqu...|   3.9|    470|   9/11/2022|  8/30/2026|\n",
      "+----------+---------+-------------+-----+--------+------+----------+--------------------+------+-------+------------+-----------+\n",
      "only showing top 10 rows\n",
      "\n"
     ]
    }
   ],
   "source": [
    "dim_product = df.select(\n",
    "    df.sale_product_id.alias(\"product_id\"),\n",
    "    df.product_name.alias(\"name\"),\n",
    "    df.product_category.alias(\"category_name\"),\n",
    "    df.product_price.alias(\"price\"),\n",
    "    df.product_quantity.alias(\"quantity\"),\n",
    "    df.product_weight.alias(\"weight\"),\n",
    "    df.product_brand.alias(\"brand_name\"),\n",
    "    df.product_description.alias(\"description\"),\n",
    "    df.product_rating.alias(\"rating\"),\n",
    "    df.product_reviews.alias(\"reviews\"),\n",
    "    df.product_release_date.alias(\"release_date\"),\n",
    "    df.product_expiry_date.alias(\"expiry_date\")\n",
    ").distinct()\n",
    "\n",
    "dim_product.show(10)\n"
   ]
  },
  {
   "cell_type": "code",
   "execution_count": 28,
   "id": "524a5c9b-9046-4caf-9331-50a854d49f40",
   "metadata": {},
   "outputs": [
    {
     "name": "stdout",
     "output_type": "stream",
     "text": [
      "+----------+--------------------+--------------------+------------+------------+---------------+--------------+-----------+\n",
      "|      name|             contact|               email|       phone|     address|           city|  country_name|supplier_id|\n",
      "+----------+--------------------+--------------------+------------+------------+---------------+--------------+-----------+\n",
      "|  Feedspan|Massimiliano Burt...|mburtwhistle5m@ho...|814-659-8974|    Room 376|       Tønsberg|      Honduras|          0|\n",
      "|  Edgeblab|     Binni Gristwood|bgristwoodmy@hous...|855-220-8231|PO Box 95444|        Chonchi|Czech Republic|          1|\n",
      "|Divanoodle|    Rustin Wetherald|rwetherald5k@wire...|705-797-7921|    Suite 22|       Mandiana| United States|          2|\n",
      "|    Wikivu|      Franni MacAree|fmacareec7@homest...|784-851-8096|PO Box 49983|        Hongmei|         China|          3|\n",
      "|      Jayo|    Vannie Skitterel|vskitterelmz@spri...|460-844-3280|   Room 1988|      Três Rios|         China|          4|\n",
      "|   Oyonder|          Rani Kubes|  rkubesfl@naver.com|174-685-7383| PO Box 2434|       Budapest|         China|          5|\n",
      "|     Meetz|  Lammond Brimicombe|lbrimicombegy@tec...|137-248-6652|     Apt 447|      Muramatsu|        Uganda|          6|\n",
      "|    Agimba|    Livy St. Quentin| lstiz@geocities.com|828-682-6449|    Suite 11|Špišić-Bukovica|          Peru|          7|\n",
      "|     Mycat|         Daffi Skase|dskasepg@bigcarte...|191-408-0972|   Room 1435|       Lewolang|     Indonesia|          8|\n",
      "|   Tagopia|     Pippy Salvadori| psalvadorip@npr.org|784-269-9430|    Room 799|       Longjing|    Costa Rica|          9|\n",
      "+----------+--------------------+--------------------+------------+------------+---------------+--------------+-----------+\n",
      "only showing top 10 rows\n",
      "\n"
     ]
    }
   ],
   "source": [
    "from pyspark.sql import functions as F\n",
    "\n",
    "dim_supplier = df.select(\n",
    "    df.supplier_name.alias(\"name\"),\n",
    "    df.supplier_contact.alias(\"contact\"),\n",
    "    df.supplier_email.alias(\"email\"),\n",
    "    df.supplier_phone.alias(\"phone\"),\n",
    "    df.supplier_address.alias(\"address\"),\n",
    "    df.supplier_city.alias(\"city\"),\n",
    "    df.supplier_country.alias(\"country_name\")\n",
    ").distinct().withColumn(\"supplier_id\", F.monotonically_increasing_id())\n",
    "\n",
    "dim_supplier.show(10)\n"
   ]
  },
  {
   "cell_type": "code",
   "execution_count": 29,
   "id": "555b5f3a-a0f8-43c5-b2e6-ec84ea1f6364",
   "metadata": {},
   "outputs": [
    {
     "name": "stdout",
     "output_type": "stream",
     "text": [
      "+----------+------------------------+----------------------------+------------+------------+---------+--------------+-----------+\n",
      "|name      |contact                 |email                       |phone       |address     |city     |country_name  |supplier_id|\n",
      "+----------+------------------------+----------------------------+------------+------------+---------+--------------+-----------+\n",
      "|Feedspan  |Massimiliano Burtwhistle|mburtwhistle5m@homestead.com|814-659-8974|Room 376    |Tønsberg |Honduras      |0          |\n",
      "|Edgeblab  |Binni Gristwood         |bgristwoodmy@house.gov      |855-220-8231|PO Box 95444|Chonchi  |Czech Republic|1          |\n",
      "|Divanoodle|Rustin Wetherald        |rwetherald5k@wired.com      |705-797-7921|Suite 22    |Mandiana |United States |2          |\n",
      "|Wikivu    |Franni MacAree          |fmacareec7@homestead.com    |784-851-8096|PO Box 49983|Hongmei  |China         |3          |\n",
      "|Jayo      |Vannie Skitterel        |vskitterelmz@springer.com   |460-844-3280|Room 1988   |Três Rios|China         |4          |\n",
      "+----------+------------------------+----------------------------+------------+------------+---------+--------------+-----------+\n",
      "only showing top 5 rows\n",
      "\n"
     ]
    }
   ],
   "source": [
    "dim_supplier.select(\"*\").show(5, truncate=False)"
   ]
  },
  {
   "cell_type": "code",
   "execution_count": 30,
   "id": "522f1280-7f97-4550-8f79-b5f6acf20b93",
   "metadata": {
    "scrolled": true
   },
   "outputs": [
    {
     "name": "stdout",
     "output_type": "stream",
     "text": [
      "+------------+------------+---------------+-----+--------------------+------------+--------------------+--------+\n",
      "|  store_name|    location|           city|state|        country_name|       phone|               email|store_id|\n",
      "+------------+------------+---------------+-----+--------------------+------------+--------------------+--------+\n",
      "|    Topdrive|  20th Floor|    Loma Bonita|  COA|             Myanmar|726-607-2362|mletessier9h@sees...|       0|\n",
      "|    Edgeblab|  20th Floor|     Haz-Zebbug|     |            Ethiopia|872-702-2152|  cdeh7@virginia.edu|       1|\n",
      "|  Flashpoint|    Suite 58|         Błędów|     |               China|955-466-2242|dkilleenj4@mozill...|       2|\n",
      "|        Katz|    Suite 96|        Dongjia|     |      Czech Republic|160-526-6710| klauganu@oakley.com|       3|\n",
      "|      Roodel|    Apt 1379|         Potoru|     |              Canada|291-585-2726|chewkinqn@indiati...|       4|\n",
      "|Thoughtworks|    Suite 91|Lagny-sur-Marne|   A8|              Poland|988-582-6510| lswait0@behance.net|       5|\n",
      "|      Zooveo|     Apt 678|       Oodweyne|     |            Tanzania|147-360-1558|fpringuer7f@weath...|       6|\n",
      "|    Skipfire|   1st Floor|      Tegallega|     |            Malaysia|849-917-9167|lpierpointdf@dmoz...|       7|\n",
      "|       Skiba|    Suite 58|   Saint Joseph|   MO|Bosnia and Herzeg...|816-468-5547| alubejs@state.tx.us|       8|\n",
      "|     Myworks|PO Box 52817|       Koski Tl|     |              Canada|114-628-6142|  rcanton68@dmoz.org|       9|\n",
      "+------------+------------+---------------+-----+--------------------+------------+--------------------+--------+\n",
      "only showing top 10 rows\n",
      "\n"
     ]
    }
   ],
   "source": [
    "from pyspark.sql import functions as F\n",
    "\n",
    "dim_store = df.select(\n",
    "    F.col(\"store_name\").alias(\"store_name\"),\n",
    "    F.col(\"store_location\").alias(\"location\"),\n",
    "    F.col(\"store_city\").alias(\"city\"),\n",
    "    F.col(\"store_state\").alias(\"state\"),\n",
    "    F.col(\"store_country\").alias(\"country_name\"),\n",
    "    F.col(\"store_phone\").alias(\"phone\"),\n",
    "    F.col(\"store_email\").alias(\"email\")\n",
    ").distinct().withColumn(\"store_id\", F.monotonically_increasing_id())\n",
    "\n",
    "\n",
    "dim_store.show(10)\n"
   ]
  },
  {
   "cell_type": "code",
   "execution_count": 31,
   "id": "d52b2fc3-c584-45f1-89be-709b85732d8e",
   "metadata": {},
   "outputs": [
    {
     "name": "stdout",
     "output_type": "stream",
     "text": [
      "+-----------+--------+-------------+------------------+-----------------+\n",
      "|customer_id|pet_name|pet_type_name|    pet_breed_name|pet_category_name|\n",
      "+-----------+--------+-------------+------------------+-----------------+\n",
      "|        135|Henrieta|          dog|          Parakeet|             Fish|\n",
      "|        219|  Alysia|         bird|           Siamese|             Cats|\n",
      "|       1349|   Grace|         bird|           Siamese|             Dogs|\n",
      "|       1808|Ludovika|          cat|          Parakeet|             Fish|\n",
      "|       1814|  Nolana|         bird|           Siamese|             Fish|\n",
      "|       2147|    Ulla|         bird|Labrador Retriever|             Fish|\n",
      "|       2191| Maureen|          cat|          Parakeet|             Fish|\n",
      "|       2274|   Meggi|          cat|Labrador Retriever|         Reptiles|\n",
      "|       2797|  Enrica|         bird|           Siamese|         Reptiles|\n",
      "|       2941|   Jason|          cat|           Siamese|            Birds|\n",
      "+-----------+--------+-------------+------------------+-----------------+\n",
      "only showing top 10 rows\n",
      "\n"
     ]
    }
   ],
   "source": [
    "dim_customer_pet = df.select(\n",
    "    df.sale_customer_id.alias(\"customer_id\"),\n",
    "    df.customer_pet_name.alias(\"pet_name\"),\n",
    "    df.customer_pet_type.alias(\"pet_type_name\"),\n",
    "    df.customer_pet_breed.alias(\"pet_breed_name\"),\n",
    "    df.pet_category.alias(\"pet_category_name\")\n",
    ").distinct()\n",
    "\n",
    "dim_customer_pet.show(10)\n"
   ]
  },
  {
   "cell_type": "code",
   "execution_count": 32,
   "id": "981772da-8013-4a67-ae0f-d825c5dbfd65",
   "metadata": {},
   "outputs": [
    {
     "name": "stdout",
     "output_type": "stream",
     "text": [
      "+-----------+---------+----------+-----------+----------+----------+--------+-----------+-------+\n",
      "|customer_id|seller_id|product_id|supplier_id|store_name| sale_date|quantity|total_price|sale_id|\n",
      "+-----------+---------+----------+-----------+----------+----------+--------+-----------+-------+\n",
      "|        468|      454|       496|        454|    Wikido| 11/1/2021|       2|     344.19|      0|\n",
      "|        442|      428|       470|        429|  Kanoodle| 1/13/2021|       6|     327.28|      1|\n",
      "|       1664|     1658|      1698|       1651|   Pixoboo| 12/3/2021|       6|      39.17|      2|\n",
      "|       2008|     9846|      2038|       1994|     Oyoyo| 10/6/2021|       2|     453.37|      3|\n",
      "|       2103|     2099|      2137|       2090|   Youopia| 6/19/2021|       3|     472.31|      4|\n",
      "|       2833|     2829|      2867|       2818|     Voomm|12/10/2021|       3|     346.03|      5|\n",
      "|       2982|     2978|      3016|       2968|     Npath|  8/4/2021|       4|     188.28|      6|\n",
      "|       3001|     2997|      3035|       2987|     Aimbo| 7/13/2021|       3|     123.31|      7|\n",
      "|       3120|     3116|      3154|       3106|     Abatz| 7/14/2021|       2|     239.36|      8|\n",
      "|       3584|     3578|      3615|       3571|     Avamm|11/13/2021|       5|     184.51|      9|\n",
      "+-----------+---------+----------+-----------+----------+----------+--------+-----------+-------+\n",
      "only showing top 10 rows\n",
      "\n"
     ]
    }
   ],
   "source": [
    "from pyspark.sql import functions as F\n",
    "\n",
    "fact_sales = df.select(\n",
    "    df.sale_customer_id.alias(\"customer_id\"),\n",
    "    df.sale_seller_id.alias(\"seller_id\"),\n",
    "    df.sale_product_id.alias(\"product_id\"),\n",
    "    df.id.alias(\"supplier_id\"),       \n",
    "    df.store_name.alias(\"store_name\"), \n",
    "    df.sale_date.alias(\"sale_date\"),\n",
    "    df.sale_quantity.alias(\"quantity\"),\n",
    "    df.sale_total_price.alias(\"total_price\")\n",
    ").distinct().withColumn(\"sale_id\", F.monotonically_increasing_id())\n",
    "\n",
    "fact_sales.show(10)\n"
   ]
  },
  {
   "cell_type": "code",
   "execution_count": 33,
   "id": "a918f827-d243-4f1a-91f4-8b64aec1c1fd",
   "metadata": {},
   "outputs": [
    {
     "name": "stdout",
     "output_type": "stream",
     "text": [
      "+------------+--------+\n",
      "|  store_name|store_id|\n",
      "+------------+--------+\n",
      "|     Jetwire|       0|\n",
      "|    Jaxworks|       1|\n",
      "|   Reallinks|       2|\n",
      "|    Snaptags|       3|\n",
      "| Brainlounge|       4|\n",
      "|    Feedfish|       5|\n",
      "|    Skipfire|       6|\n",
      "|       Kamba|       7|\n",
      "|      Quimba|       8|\n",
      "|       Quaxo|       9|\n",
      "|      Oyondu|      10|\n",
      "|    Realfire|      11|\n",
      "|Thoughtworks|      12|\n",
      "|  Browsezoom|      13|\n",
      "|      BlogXS|      14|\n",
      "|     Voonder|      15|\n",
      "|   Babbleset|      16|\n",
      "|       Yabox|      17|\n",
      "|       Einti|      18|\n",
      "|   Photofeed|      19|\n",
      "+------------+--------+\n",
      "only showing top 20 rows\n",
      "\n",
      "+-----------+---------+----------+-----------+--------+----------+--------+-----------+-------+\n",
      "|customer_id|seller_id|product_id|supplier_id|store_id| sale_date|quantity|total_price|sale_id|\n",
      "+-----------+---------+----------+-----------+--------+----------+--------+-----------+-------+\n",
      "|       8742|     8763|      8784|        336|     374|12/28/2021|       2|     119.77|      0|\n",
      "|       5759|     5752|      5787|        421|     218| 3/20/2021|       2|     123.02|      1|\n",
      "|       9505|     9528|      9545|        665|     131|  8/8/2021|       7|     392.23|      2|\n",
      "|       3104|     3100|      3138|        901|     284| 5/10/2021|       4|     270.29|      3|\n",
      "|       3784|     3777|      3813|       1406|     116| 1/25/2021|       4|     347.05|      4|\n",
      "|       7628|     7632|      7656|       1428|       8|12/24/2021|       6|      262.7|      5|\n",
      "|       5041|     5033|      5068|       1751|     208|11/23/2021|       3|     240.05|      6|\n",
      "|       4546|     4539|      4576|       1846|      88|10/10/2021|       5|     243.08|      7|\n",
      "|       3917|     3910|      3946|       1935|     311|  3/4/2021|       5|     468.94|      8|\n",
      "|        556|      542|       584|       1974|     283| 8/12/2021|       4|      37.32|      9|\n",
      "+-----------+---------+----------+-----------+--------+----------+--------+-----------+-------+\n",
      "only showing top 10 rows\n",
      "\n"
     ]
    }
   ],
   "source": [
    "from pyspark.sql import functions as F\n",
    "\n",
    "dim_supplier_temp = dim_supplier\n",
    "df_raw = spark.read.jdbc(url=jdbc_url, table=\"mock_data\", properties=properties)\n",
    "\n",
    "dim_store = df_raw.select(\"store_name\").distinct() \\\n",
    "    .withColumn(\"store_id\", F.monotonically_increasing_id())\n",
    "\n",
    "dim_store.show()\n",
    "\n",
    "dim_supplier_temp = df_raw.select(\"supplier_name\", \"supplier_email\").distinct() \\\n",
    "    .withColumn(\"supplier_id\", F.monotonically_increasing_id())\n",
    "\n",
    "fact_sales = df_raw.join(\n",
    "    dim_supplier_temp,\n",
    "    (df_raw.supplier_name == dim_supplier_temp.supplier_name) & (df_raw.supplier_email == dim_supplier_temp.supplier_email),\n",
    "    \"left\"\n",
    ").join(\n",
    "    dim_store,\n",
    "    df_raw.store_name == dim_store.store_name,\n",
    "    \"left\"\n",
    ").select(\n",
    "    df_raw.sale_customer_id.alias(\"customer_id\"),\n",
    "    df_raw.sale_seller_id.alias(\"seller_id\"),\n",
    "    df_raw.sale_product_id.alias(\"product_id\"),\n",
    "    dim_supplier_temp.supplier_id,\n",
    "    dim_store.store_id,\n",
    "    df_raw.sale_date.alias(\"sale_date\"),\n",
    "    df_raw.sale_quantity.alias(\"quantity\"),\n",
    "    df_raw.sale_total_price.alias(\"total_price\")\n",
    ").distinct() \\\n",
    " .withColumn(\"sale_id\", F.monotonically_increasing_id())\n",
    "\n",
    "fact_sales.show(10)\n"
   ]
  },
  {
   "cell_type": "code",
   "execution_count": 91,
   "id": "757822d6-31b5-4d94-b73f-633bbca11558",
   "metadata": {},
   "outputs": [],
   "source": [
    "jdbc_url = \"jdbc:postgresql://host.docker.internal:5432/postgres\"\n",
    "properties = {\n",
    "    \"user\": \"postgres\",\n",
    "    \"password\": \"Rbkkth3920\",\n",
    "    \"driver\": \"org.postgresql.Driver\"\n",
    "}\n",
    "dim_customer.write.jdbc(\n",
    "    url=jdbc_url,\n",
    "    table=\"dim_customer\",\n",
    "    mode=\"append\",\n",
    "    properties=properties\n",
    ")\n",
    "\n",
    "dim_customer_pet.write.jdbc(\n",
    "    url=jdbc_url,\n",
    "    table=\"dim_customer_pet\",\n",
    "    mode=\"append\",\n",
    "    properties=properties\n",
    ")\n",
    "\n",
    "dim_seller.write.jdbc(\n",
    "    url=jdbc_url,\n",
    "    table=\"dim_seller\",\n",
    "    mode=\"append\",\n",
    "    properties=properties\n",
    ")\n",
    "\n",
    "dim_product.write.jdbc(\n",
    "    url=jdbc_url,\n",
    "    table=\"dim_product\",\n",
    "    mode=\"append\",\n",
    "    properties=properties\n",
    ")\n",
    "\n",
    "dim_supplier = dim_supplier.withColumnRenamed(\"supplier_name\", \"name\")\n",
    "dim_supplier = dim_supplier.withColumnRenamed(\"supplier_email\", \"email\")\n",
    "\n",
    "dim_supplier.write.jdbc(\n",
    "    url=jdbc_url,\n",
    "    table=\"dim_supplier\",\n",
    "    mode=\"append\",\n",
    "    properties=properties\n",
    ")\n",
    "\n",
    "dim_store = dim_store.withColumnRenamed(\"store_name\", \"name\")\n",
    "\n",
    "dim_store.write.jdbc(\n",
    "    url=jdbc_url,\n",
    "    table=\"dim_store\",\n",
    "    mode=\"append\",\n",
    "    properties=properties\n",
    ")\n",
    "\n",
    "fact_sales.write.jdbc(\n",
    "    url=jdbc_url,\n",
    "    table=\"fact_sales\",\n",
    "    mode=\"append\",\n",
    "    properties=properties\n",
    ")"
   ]
  },
  {
   "cell_type": "markdown",
   "id": "e9341a0f-e6e7-4089-89c0-935875ad1fe5",
   "metadata": {},
   "source": [
    "# ClickHouse"
   ]
  },
  {
   "cell_type": "code",
   "execution_count": 34,
   "id": "efbabbcf-9251-4b70-8480-6e4f99ce2b12",
   "metadata": {},
   "outputs": [],
   "source": [
    "clickhouse_url = \"jdbc:clickhouse://clickhouse:8123/clickhouse\"\n",
    "\n",
    "clickhouse_props = {\n",
    "    \"driver\": \"com.clickhouse.jdbc.ClickHouseDriver\",\n",
    "    \"user\": \"clickhouse\",\n",
    "    \"password\": \"Rbkkth3920\",\n",
    "}"
   ]
  },
  {
   "cell_type": "code",
   "execution_count": 35,
   "id": "8078516e-4b05-4063-8daf-5ab5e4708810",
   "metadata": {},
   "outputs": [
    {
     "name": "stdout",
     "output_type": "stream",
     "text": [
      "Ok.\n"
     ]
    }
   ],
   "source": [
    "!curl http://clickhouse:8123"
   ]
  },
  {
   "cell_type": "markdown",
   "id": "90280f47-b5f7-4044-94fc-5736d8018366",
   "metadata": {},
   "source": [
    "# 1. Витрина продаж по продуктам\n",
    "## Цель: Анализ выручки, количества продаж и популярности продуктов.\n",
    "\n",
    "# Топ-10 самых продаваемых продуктов."
   ]
  },
  {
   "cell_type": "code",
   "execution_count": 36,
   "id": "11e8bc10-3e79-452b-ac32-b9edaaea0a61",
   "metadata": {},
   "outputs": [
    {
     "name": "stdout",
     "output_type": "stream",
     "text": [
      "+----------+--------------+------------------+---------+-------------+-----+--------+------+------------+--------------------+------+-------+------------+-----------+----+\n",
      "|product_id|total_quantity|     total_revenue|     name|category_name|price|quantity|weight|  brand_name|         description|rating|reviews|release_date|expiry_date|rank|\n",
      "+----------+--------------+------------------+---------+-------------+-----+--------+------+------------+--------------------+------+-------+------------+-----------+----+\n",
      "|      8668|            10| 499.7300109863281|  Cat Toy|          Toy|58.24|      40|  24.3|       Lazzy|Vestibulum quam s...|   1.6|    290|    4/2/2017|  2/24/2030|   1|\n",
      "|      3601|            10| 499.5899963378906| Dog Food|          Toy| 6.89|      87|  18.6|    Realblab|Praesent id massa...|   1.9|    769|   1/20/2012|  4/18/2028|   2|\n",
      "|      1535|            10| 498.9599914550781|Bird Cage|          Toy|55.78|      38|  39.2|   Browsebug|Duis bibendum. Mo...|   3.3|    842|   1/18/2017|  11/3/2029|   3|\n",
      "|      7640|            10| 498.3500061035156| Dog Food|         Food| 3.94|      23|   3.5|       Mycat|Duis aliquam conv...|   2.3|    782|   5/11/2012| 12/29/2028|   4|\n",
      "|      9974|            10|            497.25| Dog Food|         Food|24.93|      50|  24.2|Jabbersphere|Aenean fermentum....|   4.1|    627|   6/20/2012|  10/5/2026|   5|\n",
      "|      5205|            10|496.95001220703125|  Cat Toy|          Toy| 53.7|      59|  38.5|      Rhynyx|Nam ultrices, lib...|   4.2|    752|    2/1/2010|   2/2/2025|   6|\n",
      "|      4005|            10| 496.3599853515625| Dog Food|         Food| 39.4|      15|  16.0|  Divanoodle|Aenean lectus. Pe...|   1.8|    954|   5/10/2015|  2/16/2025|   7|\n",
      "|      7472|            10| 496.1400146484375|Bird Cage|          Toy|92.22|      93|  45.9|  Topicshots|Maecenas ut massa...|   4.3|    604|   9/29/2022| 12/22/2024|   8|\n",
      "|      3623|            10| 495.6099853515625|Bird Cage|         Food|48.07|      50|   1.7|    Tanoodle|In congue. Etiam ...|   2.4|    423|    7/6/2015|  1/30/2027|   9|\n",
      "|      6161|            10| 495.5400085449219|  Cat Toy|         Cage|33.53|      91|  28.2| Twitterwire|Praesent id massa...|   3.2|    373|   8/12/2016|  7/13/2030|  10|\n",
      "+----------+--------------+------------------+---------+-------------+-----+--------+------+------------+--------------------+------+-------+------------+-----------+----+\n",
      "\n"
     ]
    }
   ],
   "source": [
    "from pyspark.sql import functions as F\n",
    "from pyspark.sql.window import Window\n",
    "\n",
    "top_10_products = fact_sales.groupBy(\"product_id\") \\\n",
    "    .agg(\n",
    "        F.sum(\"quantity\").alias(\"total_quantity\"),\n",
    "        F.sum(\"total_price\").alias(\"total_revenue\")\n",
    "    )\n",
    "\n",
    "top_10_products = top_10_products.join(\n",
    "    dim_product.select(\n",
    "        \"product_id\",\n",
    "        \"name\",           \n",
    "        \"category_name\",  \n",
    "        \"price\",          \n",
    "        \"quantity\",      \n",
    "        \"weight\",       \n",
    "        \"brand_name\",     \n",
    "        \"description\",    \n",
    "        \"rating\",       \n",
    "        \"reviews\",       \n",
    "        \"release_date\",   \n",
    "        \"expiry_date\"     \n",
    "    ),\n",
    "    on=\"product_id\",\n",
    "    how=\"left\"\n",
    ")\n",
    "\n",
    "top_10_products = top_10_products.orderBy(\n",
    "    F.desc(\"total_quantity\"),\n",
    "    F.desc(\"total_revenue\")\n",
    ").limit(10)\n",
    "\n",
    "window_spec = Window.orderBy(\n",
    "    F.desc(\"total_quantity\"),\n",
    "    F.desc(\"total_revenue\")\n",
    ")\n",
    "top_10_products = top_10_products.withColumn(\n",
    "    \"rank\",\n",
    "    F.row_number().over(window_spec)\n",
    ")\n",
    "\n",
    "top_10_products.show(10)\n"
   ]
  },
  {
   "cell_type": "code",
   "execution_count": 37,
   "id": "61f731f9-1190-43ea-8602-bf82208285f2",
   "metadata": {},
   "outputs": [],
   "source": [
    "top_10_products.write \\\n",
    "    .option(\"createTableOptions\", \"ENGINE = MergeTree() ORDER BY (rank)\") \\\n",
    "    .mode(\"overwrite\") \\\n",
    "    .jdbc(url=clickhouse_url, table=\"top_10_products\", properties=clickhouse_props)"
   ]
  },
  {
   "cell_type": "markdown",
   "id": "cfd46901-c489-48cd-9111-06dba2e80af5",
   "metadata": {},
   "source": [
    "# Общая выручка по категориям продуктов"
   ]
  },
  {
   "cell_type": "code",
   "execution_count": 38,
   "id": "3b726f67-1ac9-4644-8ea9-06426a5513cd",
   "metadata": {},
   "outputs": [
    {
     "name": "stdout",
     "output_type": "stream",
     "text": [
      "+-------------+-----------------+\n",
      "|category_name|    total_revenue|\n",
      "+-------------+-----------------+\n",
      "|         Cage|831117.9398345947|\n",
      "|         Food|830632.5497875214|\n",
      "|          Toy|868101.6302814484|\n",
      "+-------------+-----------------+\n",
      "\n"
     ]
    }
   ],
   "source": [
    "from pyspark.sql import functions as F\n",
    "\n",
    "total_revenue_by_category = fact_sales.join(\n",
    "    dim_product.select(\"product_id\", \"category_name\"),\n",
    "    \"product_id\"\n",
    ").groupBy(\"category_name\").agg(\n",
    "    F.sum(\"total_price\").alias(\"total_revenue\")\n",
    ")\n",
    "\n",
    "total_revenue_by_category.show(5)"
   ]
  },
  {
   "cell_type": "code",
   "execution_count": 39,
   "id": "2c39bc46-6d2c-44ff-841a-572aefceb0ea",
   "metadata": {},
   "outputs": [],
   "source": [
    "clickhouse_url = \"jdbc:clickhouse://clickhouse:8123/clickhouse\"\n",
    "\n",
    "clickhouse_props = {\n",
    "    \"driver\": \"com.clickhouse.jdbc.ClickHouseDriver\",\n",
    "    \"user\": \"clickhouse\",\n",
    "    \"password\": \"Rbkkth3920\",\n",
    "}\n",
    "\n",
    "total_revenue_by_category.write \\\n",
    "    .option(\"createTableOptions\", \"ENGINE = MergeTree() ORDER BY (total_revenue)\") \\\n",
    "    .mode(\"overwrite\") \\\n",
    "    .jdbc(url=clickhouse_url, table=\"total_revenue_by_category\", properties=clickhouse_props)"
   ]
  },
  {
   "cell_type": "markdown",
   "id": "3af1f315-3b85-40b3-a328-9f4f30c1c441",
   "metadata": {},
   "source": [
    "# Средний рейтинг и количество отзывов для каждого продукта"
   ]
  },
  {
   "cell_type": "code",
   "execution_count": 40,
   "id": "849d21a2-16b1-43ba-b25d-1fd470903dde",
   "metadata": {},
   "outputs": [
    {
     "name": "stdout",
     "output_type": "stream",
     "text": [
      "+---------+------------------+-------------+\n",
      "|     name|        avg_rating|total_reviews|\n",
      "+---------+------------------+-------------+\n",
      "|Bird Cage|3.0001491633975137|      1682260|\n",
      "| Dog Food| 3.018298893783149|      1653413|\n",
      "|  Cat Toy| 3.006860081398008|      1676222|\n",
      "+---------+------------------+-------------+\n",
      "\n"
     ]
    }
   ],
   "source": [
    "from pyspark.sql import functions as F\n",
    "\n",
    "avg_product_rating = dim_product.groupBy('name').agg(\n",
    "    F.avg('rating').alias('avg_rating'),\n",
    "    F.sum('reviews').alias('total_reviews')\n",
    ")\n",
    "\n",
    "avg_product_rating.show(5)\n"
   ]
  },
  {
   "cell_type": "code",
   "execution_count": 41,
   "id": "bbf99ee4-b1a7-4fbc-9693-d34b9528c39e",
   "metadata": {},
   "outputs": [],
   "source": [
    "avg_product_rating.write \\\n",
    "    .option(\"createTableOptions\", \"ENGINE = MergeTree() ORDER BY (name)\") \\\n",
    "    .mode(\"overwrite\") \\\n",
    "    .jdbc(url=clickhouse_url, table=\"avg_product_rating\", properties=clickhouse_props)"
   ]
  },
  {
   "cell_type": "markdown",
   "id": "e4f39fbc-481b-459e-94e0-8a9005bd2169",
   "metadata": {},
   "source": [
    "# 2. Витрина продаж по клиентам\n",
    "\n",
    "## Цель: Анализ покупательского поведения и сегментация клиентов.\n",
    "\n",
    "# Топ-10 клиентов с наибольшей общей суммой покупок"
   ]
  },
  {
   "cell_type": "code",
   "execution_count": 42,
   "id": "cbfe1340-9889-4283-97f9-fd61037c76c9",
   "metadata": {},
   "outputs": [
    {
     "name": "stdout",
     "output_type": "stream",
     "text": [
      "+-----------+----------+---------+------------------+\n",
      "|customer_id|first_name|last_name|       total_spent|\n",
      "+-----------+----------+---------+------------------+\n",
      "|       4206|       Gus|Hartshorn| 499.8500061035156|\n",
      "|       6436|     Hayes|   McKain|499.79998779296875|\n",
      "|       6371|       Ava|    Lomas|  499.760009765625|\n",
      "|       5932|     Dawna|    Impey|  499.760009765625|\n",
      "|       8628|   Lavinia|Horsburgh| 499.7300109863281|\n",
      "+-----------+----------+---------+------------------+\n",
      "only showing top 5 rows\n",
      "\n"
     ]
    }
   ],
   "source": [
    "from pyspark.sql import functions as F\n",
    "\n",
    "top_10_customers = fact_sales.join(dim_customer, \"customer_id\") \\\n",
    "    .groupBy(\"customer_id\", \"first_name\", \"last_name\") \\\n",
    "    .agg(F.sum(\"total_price\").alias(\"total_spent\")) \\\n",
    "    .orderBy(F.desc(\"total_spent\")) \\\n",
    "    .limit(10)\n",
    "\n",
    "top_10_customers.show(5)\n",
    "\n",
    "top_10_customers.write \\\n",
    "    .option(\"createTableOptions\", \"ENGINE = MergeTree() ORDER BY (total_spent)\") \\\n",
    "    .mode(\"overwrite\") \\\n",
    "    .jdbc(url=clickhouse_url, table=\"top_10_customers\", properties=clickhouse_props)\n"
   ]
  },
  {
   "cell_type": "markdown",
   "id": "b3d0732d-67b3-4571-b518-ece93b51e5be",
   "metadata": {},
   "source": [
    "# Распределение клиентов по странам"
   ]
  },
  {
   "cell_type": "code",
   "execution_count": 43,
   "id": "2a8d4038-5d42-40d7-a880-bad4f1ea43c8",
   "metadata": {},
   "outputs": [
    {
     "name": "stdout",
     "output_type": "stream",
     "text": [
      "+-------------------+-------------+\n",
      "|       country_name|num_customers|\n",
      "+-------------------+-------------+\n",
      "|               Chad|            5|\n",
      "|             Russia|          628|\n",
      "|           Paraguay|           18|\n",
      "|              Yemen|           39|\n",
      "|U.S. Virgin Islands|            1|\n",
      "+-------------------+-------------+\n",
      "only showing top 5 rows\n",
      "\n"
     ]
    }
   ],
   "source": [
    "from pyspark.sql import functions as F\n",
    "\n",
    "clients_by_country = dim_customer.groupBy(\"country_name\") \\\n",
    "    .agg(F.count(\"customer_id\").alias(\"num_customers\"))\n",
    "\n",
    "clients_by_country.show(5)\n",
    "\n",
    "clients_by_country.write \\\n",
    "    .option(\"createTableOptions\", \"ENGINE = MergeTree() ORDER BY (country_name)\") \\\n",
    "    .mode(\"overwrite\") \\\n",
    "    .jdbc(url=clickhouse_url, table=\"clients_by_country\", properties=clickhouse_props)\n"
   ]
  },
  {
   "cell_type": "markdown",
   "id": "b232abd1-d043-4ba8-a1a6-366c36e76117",
   "metadata": {},
   "source": [
    "# Средний чек для каждого клиента"
   ]
  },
  {
   "cell_type": "code",
   "execution_count": 44,
   "id": "d6e3f320-c461-4958-b064-d4a5bd2bb12d",
   "metadata": {},
   "outputs": [
    {
     "name": "stdout",
     "output_type": "stream",
     "text": [
      "+-----------+----------+---------+------------------+\n",
      "|customer_id|first_name|last_name|       avg_receipt|\n",
      "+-----------+----------+---------+------------------+\n",
      "|       5313|  Ethelred|   Briton| 380.8800048828125|\n",
      "|       6865|     Ethan|Phillipps| 54.59000015258789|\n",
      "|       3310|      Rene|   Harden| 340.4599914550781|\n",
      "|       1733|    Belvia|     Earl|246.44000244140625|\n",
      "|       5838|     Davey|     Jurs| 479.6300048828125|\n",
      "+-----------+----------+---------+------------------+\n",
      "only showing top 5 rows\n",
      "\n"
     ]
    }
   ],
   "source": [
    "from pyspark.sql import functions as F\n",
    "\n",
    "avg_receipt_per_customer = fact_sales.join(dim_customer, \"customer_id\") \\\n",
    "    .groupBy(\"customer_id\", \"first_name\", \"last_name\") \\\n",
    "    .agg(F.avg(\"total_price\").alias(\"avg_receipt\"))\n",
    "\n",
    "avg_receipt_per_customer.show(5)\n",
    "\n",
    "avg_receipt_per_customer.write \\\n",
    "    .option(\"createTableOptions\", \"ENGINE = MergeTree() ORDER BY (customer_id)\") \\\n",
    "    .mode(\"overwrite\") \\\n",
    "    .jdbc(url=clickhouse_url, table=\"avg_receipt_per_customer\", properties=clickhouse_props)\n"
   ]
  },
  {
   "cell_type": "markdown",
   "id": "83001efc-99c8-4ec0-b2b8-a698fa0a6625",
   "metadata": {},
   "source": [
    "# 3. Витрина продаж по времени\n",
    "\n",
    "## Цель: Анализ сезонности и трендов продаж.\n",
    "\n",
    "# Месячные и годовые тренды продаж"
   ]
  },
  {
   "cell_type": "code",
   "execution_count": 45,
   "id": "53ed9f00-4c1e-4b33-9598-e20d37426dd4",
   "metadata": {},
   "outputs": [
    {
     "name": "stdout",
     "output_type": "stream",
     "text": [
      "+----+-----+------------------+------------+------------------+\n",
      "|year|month|   monthly_revenue|orders_count|    yearly_revenue|\n",
      "+----+-----+------------------+------------+------------------+\n",
      "|2021|    8| 221275.7799243927|         897|2529852.1199035645|\n",
      "|2021|    6| 215042.7997379303|         822|2529852.1199035645|\n",
      "|2021|    5|211764.86022472382|         828|2529852.1199035645|\n",
      "|2021|   10| 228743.3197774887|         892|2529852.1199035645|\n",
      "|2021|   11|200154.69006824493|         801|2529852.1199035645|\n",
      "+----+-----+------------------+------------+------------------+\n",
      "only showing top 5 rows\n",
      "\n"
     ]
    }
   ],
   "source": [
    "from pyspark.sql import functions as F\n",
    "\n",
    "fact_sales = fact_sales.withColumn(\n",
    "    \"sale_date_parsed\",\n",
    "    F.to_date(\"sale_date\", \"M/d/yyyy\")\n",
    ")\n",
    "\n",
    "time_trends = fact_sales.withColumn(\"year\", F.year(\"sale_date_parsed\")) \\\n",
    "    .withColumn(\"month\", F.month(\"sale_date_parsed\"))\n",
    "\n",
    "time_trends = time_trends.filter(F.col(\"sale_date_parsed\").isNotNull())\n",
    "\n",
    "time_trends = time_trends.groupBy(\"year\", \"month\") \\\n",
    "    .agg(\n",
    "        F.sum(\"total_price\").alias(\"monthly_revenue\"),\n",
    "        F.count(\"sale_id\").alias(\"orders_count\")\n",
    "    )\n",
    "\n",
    "from pyspark.sql.window import Window\n",
    "window_spec = Window.partitionBy(\"year\")\n",
    "time_trends = time_trends.withColumn(\n",
    "    \"yearly_revenue\",\n",
    "    F.sum(\"monthly_revenue\").over(window_spec)\n",
    ")\n",
    "\n",
    "time_trends.show(5)\n",
    "\n",
    "time_trends.write \\\n",
    "    .option(\"createTableOptions\", \"ENGINE = MergeTree() ORDER BY (year, month)\") \\\n",
    "    .mode(\"overwrite\") \\\n",
    "    .jdbc(url=clickhouse_url, table=\"time_trends\", properties=clickhouse_props)\n"
   ]
  },
  {
   "cell_type": "code",
   "execution_count": 46,
   "id": "7575d841-4e77-4607-bd90-14a33e4a599b",
   "metadata": {},
   "outputs": [
    {
     "name": "stdout",
     "output_type": "stream",
     "text": [
      "+----+------------------+\n",
      "|year|     total_revenue|\n",
      "+----+------------------+\n",
      "|2021|2529852.1199035645|\n",
      "+----+------------------+\n",
      "\n"
     ]
    }
   ],
   "source": [
    "from pyspark.sql import functions as F\n",
    "\n",
    "cleaned_sales = fact_sales.withColumn(\n",
    "    \"sale_date_parsed\",\n",
    "    F.to_date(F.col(\"sale_date\"), \"M/d/yyyy\")\n",
    ").filter(F.col(\"sale_date_parsed\").isNotNull())\n",
    "\n",
    "yearly_revenue = cleaned_sales.withColumn(\"year\", F.year(\"sale_date_parsed\")) \\\n",
    "    .groupBy(\"year\") \\\n",
    "    .agg(F.sum(\"total_price\").alias(\"total_revenue\"))\n",
    "\n",
    "yearly_revenue.show(5)\n",
    "\n",
    "yearly_revenue.write \\\n",
    "    .option(\"createTableOptions\", \"ENGINE = MergeTree() ORDER BY (year)\") \\\n",
    "    .mode(\"overwrite\") \\\n",
    "    .jdbc(url=clickhouse_url, table=\"yearly_revenue\", properties=clickhouse_props)\n"
   ]
  },
  {
   "cell_type": "markdown",
   "id": "68a31b46-0483-4ca8-83d9-26f0d77ce8e0",
   "metadata": {},
   "source": [
    "# Средний размер заказа по месяцам"
   ]
  },
  {
   "cell_type": "code",
   "execution_count": 47,
   "id": "28f94892-2e85-4dd3-83c4-440299566115",
   "metadata": {},
   "outputs": [
    {
     "name": "stdout",
     "output_type": "stream",
     "text": [
      "+-----+------------------+\n",
      "|month|      avg_quantity|\n",
      "+-----+------------------+\n",
      "|   12|  5.62987012987013|\n",
      "|    1| 5.556064073226545|\n",
      "|    6| 5.399026763990268|\n",
      "|    3|5.4104389086595495|\n",
      "|    5| 5.375603864734299|\n",
      "+-----+------------------+\n",
      "only showing top 5 rows\n",
      "\n"
     ]
    }
   ],
   "source": [
    "from pyspark.sql import functions as F\n",
    "\n",
    "fact_sales = fact_sales.withColumn(\n",
    "    \"sale_date_parsed\",\n",
    "    F.to_date(\"sale_date\", \"M/d/yyyy\")\n",
    ").filter(F.col(\"sale_date_parsed\").isNotNull())\n",
    "\n",
    "avg_order_monthly = fact_sales.withColumn(\"month\", F.month(\"sale_date_parsed\")) \\\n",
    "    .groupBy(\"month\") \\\n",
    "    .agg(F.avg(\"quantity\").alias(\"avg_quantity\"))\n",
    "\n",
    "avg_order_monthly.show(5)\n",
    "\n",
    "avg_order_monthly.write \\\n",
    "    .option(\"createTableOptions\", \"ENGINE = MergeTree() ORDER BY (month)\") \\\n",
    "    .mode(\"overwrite\") \\\n",
    "    .jdbc(url=clickhouse_url, table=\"avg_order_monthly\", properties=clickhouse_props)\n"
   ]
  },
  {
   "cell_type": "markdown",
   "id": "251368be-d94c-4d02-ad21-dec7dd11305f",
   "metadata": {},
   "source": [
    "# 4. Витрина продаж по магазинам\n",
    "# Цель: Анализ эффективности магазинов.\n",
    "\n",
    "# Топ-5 магазинов с наибольшей выручкой"
   ]
  },
  {
   "cell_type": "code",
   "execution_count": 48,
   "id": "a052baf3-c8c5-422e-a3df-881eedc7094a",
   "metadata": {},
   "outputs": [
    {
     "name": "stdout",
     "output_type": "stream",
     "text": [
      "+--------+--------+------------------+\n",
      "|store_id|    name|     total_revenue|\n",
      "+--------+--------+------------------+\n",
      "|     200|   Mynte|15751.709976196289|\n",
      "|     176|   Quatz|15176.640044212341|\n",
      "|     217|    Jayo|13976.010055541992|\n",
      "|     212|   Quinu|13952.879922866821|\n",
      "|     340|Realcube|13700.770052909851|\n",
      "+--------+--------+------------------+\n",
      "\n"
     ]
    }
   ],
   "source": [
    "from pyspark.sql import functions as F\n",
    "\n",
    "dim_store_renamed = dim_store.withColumnRenamed(\"store_name\", \"name\")\n",
    "\n",
    "top_5_stores = (\n",
    "    fact_sales\n",
    "      .join(dim_store_renamed, \"store_id\")              \n",
    "      .groupBy(\"store_id\", \"name\")                     \n",
    "      .agg(F.sum(\"total_price\").alias(\"total_revenue\"))  \n",
    "      .orderBy(F.desc(\"total_revenue\"))                \n",
    "      .limit(5)                                         \n",
    ")\n",
    "\n",
    "top_5_stores.show(5)\n",
    "\n",
    "top_5_stores.write \\\n",
    "    .mode(\"overwrite\") \\\n",
    "    .option(\"createTableOptions\", \"ENGINE = MergeTree() ORDER BY (total_revenue)\") \\\n",
    "    .jdbc(\n",
    "        url=clickhouse_url,\n",
    "        table=\"top_5_stores\",\n",
    "        properties=clickhouse_props\n",
    "    )\n"
   ]
  },
  {
   "cell_type": "markdown",
   "id": "3aaa8420-75e5-4be7-8355-e419a697812a",
   "metadata": {},
   "source": [
    "# Распределение продаж по городам и странам"
   ]
  },
  {
   "cell_type": "code",
   "execution_count": 49,
   "id": "72004ca8-c2c3-4c56-871c-64dc7dbda4ac",
   "metadata": {},
   "outputs": [
    {
     "name": "stdout",
     "output_type": "stream",
     "text": [
      "+-------------+------------+------------------+------------------+\n",
      "|         city|country_name|      city_revenue|   country_revenue|\n",
      "+-------------+------------+------------------+------------------+\n",
      "|Sumberngerjat| Afghanistan|7717.1599197387695|7717.1599197387695|\n",
      "|      Słubice|     Albania| 6181.639970779419| 6181.639970779419|\n",
      "|     Västerås|   Argentina| 5358.200012207031|32627.120027542114|\n",
      "|      Xilanqi|   Argentina| 5585.280012130737|32627.120027542114|\n",
      "|    Sacapulas|   Argentina| 6575.219997406006|32627.120027542114|\n",
      "+-------------+------------+------------------+------------------+\n",
      "only showing top 5 rows\n",
      "\n"
     ]
    }
   ],
   "source": [
    "from pyspark.sql import functions as F\n",
    "from pyspark.sql.window import Window\n",
    "\n",
    "dim_store_loc = df.select(\n",
    "    F.monotonically_increasing_id().alias(\"store_id\"),\n",
    "    F.col(\"store_city\").alias(\"city\"),\n",
    "    F.col(\"store_country\").alias(\"country_name\")\n",
    ").distinct()\n",
    "\n",
    "sales_by_location = (\n",
    "    fact_sales\n",
    "    .join(dim_store_loc, \"store_id\")\n",
    "    .groupBy(\"city\", \"country_name\")\n",
    "    .agg(F.sum(\"total_price\").alias(\"city_revenue\"))\n",
    "    .withColumn(\"country_revenue\", F.sum(\"city_revenue\").over(Window.partitionBy(\"country_name\")))\n",
    ")\n",
    "\n",
    "sales_by_location.show(5)\n",
    "\n",
    "sales_by_location.write \\\n",
    "    .mode(\"overwrite\") \\\n",
    "    .option(\"createTableOptions\", \"ENGINE = MergeTree() ORDER BY (country_name, city)\") \\\n",
    "    .jdbc(url=clickhouse_url, table=\"sales_by_location\", properties=clickhouse_props)\n"
   ]
  },
  {
   "cell_type": "markdown",
   "id": "dc916add-2f79-460b-9f80-b9a1cb5eb0c5",
   "metadata": {},
   "source": [
    "# Средний чек для каждого магазина"
   ]
  },
  {
   "cell_type": "code",
   "execution_count": 50,
   "id": "b6bbd81e-4ef1-4d27-a433-8a24f535f24a",
   "metadata": {},
   "outputs": [
    {
     "name": "stdout",
     "output_type": "stream",
     "text": [
      "+--------+----------+------------------+\n",
      "|store_id|store_name|       avg_receipt|\n",
      "+--------+----------+------------------+\n",
      "|      27|    JumpXS|257.14406329393387|\n",
      "|     108|  Photobug|235.87957483656862|\n",
      "|     226|    Voolia|256.01947362799393|\n",
      "|     267|    Rhynyx| 275.6128542763846|\n",
      "|     355|     Aimbo| 264.4278566496713|\n",
      "+--------+----------+------------------+\n",
      "only showing top 5 rows\n",
      "\n"
     ]
    }
   ],
   "source": [
    "from pyspark.sql import functions as F\n",
    "\n",
    "avg_receipt_per_store = (\n",
    "    fact_sales\n",
    "    .join(dim_store.select(\"store_id\", \"store_name\"), \"store_id\")\n",
    "    .groupBy(\"store_id\", \"store_name\")\n",
    "    .agg(F.avg(\"total_price\").alias(\"avg_receipt\"))\n",
    ")\n",
    "\n",
    "avg_receipt_per_store.show(5)\n",
    "\n",
    "avg_receipt_per_store.write \\\n",
    "    .mode(\"overwrite\") \\\n",
    "    .option(\"createTableOptions\", \"ENGINE = MergeTree() ORDER BY (store_id)\") \\\n",
    "    .jdbc(url=clickhouse_url, table=\"avg_receipt_per_store\", properties=clickhouse_props)\n"
   ]
  },
  {
   "cell_type": "markdown",
   "id": "d50f617a-d503-4aed-b65d-9767af31cb38",
   "metadata": {},
   "source": [
    "# 5. Витрина продаж по поставщикам\n",
    "## Цель: Анализ эффективности поставщиков.\n",
    "\n",
    "# Топ-5 поставщиков с наибольшей выручкой"
   ]
  },
  {
   "cell_type": "code",
   "execution_count": 52,
   "id": "2d7071bb-aa2c-4b62-a8a8-30beb5406080",
   "metadata": {},
   "outputs": [
    {
     "name": "stdout",
     "output_type": "stream",
     "text": [
      "+-----------+----------+------------------+\n",
      "|supplier_id|      name|     total_revenue|\n",
      "+-----------+----------+------------------+\n",
      "|       9251|   Blogtag| 499.8500061035156|\n",
      "|       3482| Flashspan|499.79998779296875|\n",
      "|        803|    Skyndu|  499.760009765625|\n",
      "|       9416|Photospace|  499.760009765625|\n",
      "|       7725|  Gigazoom| 499.7300109863281|\n",
      "+-----------+----------+------------------+\n",
      "\n"
     ]
    }
   ],
   "source": [
    "from pyspark.sql import functions as F\n",
    "\n",
    "top_5_suppliers = (\n",
    "    fact_sales\n",
    "    .join(dim_supplier.select(\"supplier_id\", \"name\"), \"supplier_id\")\n",
    "    .groupBy(\"supplier_id\", \"name\")\n",
    "    .agg(F.sum(\"total_price\").alias(\"total_revenue\"))\n",
    "    .orderBy(F.desc(\"total_revenue\"))\n",
    "    .limit(5)\n",
    ")\n",
    "\n",
    "top_5_suppliers.show(5)\n",
    "\n",
    "top_5_suppliers.write \\\n",
    "    .mode(\"overwrite\") \\\n",
    "    .option(\"createTableOptions\", \"ENGINE = MergeTree() ORDER BY (total_revenue)\") \\\n",
    "    .jdbc(url=clickhouse_url, table=\"top_5_suppliers\", properties=clickhouse_props)\n"
   ]
  },
  {
   "cell_type": "markdown",
   "id": "0de283d3-a319-4185-9aad-e97ccdc0ce09",
   "metadata": {},
   "source": [
    "# Средняя цена товаров от каждого поставщика"
   ]
  },
  {
   "cell_type": "code",
   "execution_count": 54,
   "id": "0b122128-c7e8-4af0-893e-d79cd1ff6459",
   "metadata": {},
   "outputs": [
    {
     "name": "stdout",
     "output_type": "stream",
     "text": [
      "+-----------+-------------+------------------+\n",
      "|supplier_id|supplier_name|         avg_price|\n",
      "+-----------+-------------+------------------+\n",
      "|       4838|        Einti|11.329999923706055|\n",
      "|       3748|     Zoombeat|60.369998931884766|\n",
      "|       5672|     Photobug| 63.11000061035156|\n",
      "|       4924|       Yakijo|3.4200000762939453|\n",
      "|       2158|        Voomm| 6.940000057220459|\n",
      "+-----------+-------------+------------------+\n",
      "only showing top 5 rows\n",
      "\n"
     ]
    }
   ],
   "source": [
    "from pyspark.sql import functions as F\n",
    "\n",
    "fact = fact_sales.alias(\"f\")\n",
    "product = dim_product.alias(\"p\")\n",
    "supplier = dim_supplier.alias(\"s\")\n",
    "\n",
    "avg_price_per_supplier = fact \\\n",
    "    .join(product, F.col(\"p.product_id\") == F.col(\"f.product_id\")) \\\n",
    "    .join(supplier, F.col(\"s.supplier_id\") == F.col(\"f.supplier_id\")) \\\n",
    "    .groupBy(F.col(\"s.supplier_id\"), F.col(\"s.name\").alias(\"supplier_name\")) \\\n",
    "    .agg(F.avg(F.col(\"p.price\")).alias(\"avg_price\"))\n",
    "\n",
    "avg_price_per_supplier.show(5)\n",
    "\n",
    "avg_price_per_supplier.write \\\n",
    "    .option(\"createTableOptions\", \"ENGINE = MergeTree() ORDER BY (supplier_id)\") \\\n",
    "    .mode(\"overwrite\") \\\n",
    "    .jdbc(url=clickhouse_url, table=\"avg_price_per_supplier\", properties=clickhouse_props)\n"
   ]
  },
  {
   "cell_type": "markdown",
   "id": "2e3d3d16-2499-4601-8c42-29c55056d608",
   "metadata": {},
   "source": [
    "# Распределение продаж по странам поставщиков"
   ]
  },
  {
   "cell_type": "code",
   "execution_count": 55,
   "id": "e035a536-0fc4-4f9e-9006-cb5e05ca90a0",
   "metadata": {},
   "outputs": [
    {
     "name": "stdout",
     "output_type": "stream",
     "text": [
      "+------------+------------------+\n",
      "|country_name|     total_revenue|\n",
      "+------------+------------------+\n",
      "|        Chad| 1694.580008506775|\n",
      "|      Russia|  149108.400100708|\n",
      "|    Paraguay| 3071.669984817505|\n",
      "|       Yemen|10493.579959869385|\n",
      "|     Senegal|2279.1099996566772|\n",
      "+------------+------------------+\n",
      "only showing top 5 rows\n",
      "\n"
     ]
    }
   ],
   "source": [
    "from pyspark.sql import functions as F\n",
    "\n",
    "sales_by_supplier_country = fact_sales \\\n",
    "    .join(dim_supplier, \"supplier_id\") \\\n",
    "    .groupBy(\"country_name\") \\\n",
    "    .agg(F.sum(\"total_price\").alias(\"total_revenue\"))\n",
    "\n",
    "sales_by_supplier_country.show(5)\n",
    "\n",
    "sales_by_supplier_country.write \\\n",
    "    .option(\"createTableOptions\", \"ENGINE = MergeTree() ORDER BY (country_name)\") \\\n",
    "    .mode(\"overwrite\") \\\n",
    "    .jdbc(url=clickhouse_url, table=\"sales_by_supplier_country\", properties=clickhouse_props)\n"
   ]
  },
  {
   "cell_type": "markdown",
   "id": "13e31526-dd02-4739-aa14-c5b667621625",
   "metadata": {},
   "source": [
    "# 6. Витрина качества продукции\n",
    "## Цель: Анализ отзывов и рейтингов товаров.\n",
    "\n",
    "# Продукты с наивысшим и наименьшим рейтингом"
   ]
  },
  {
   "cell_type": "code",
   "execution_count": 55,
   "id": "41eaa5cc-8c94-43a1-80d2-2615db78f646",
   "metadata": {},
   "outputs": [
    {
     "name": "stdout",
     "output_type": "stream",
     "text": [
      "+----------+---------+------+\n",
      "|product_id|     name|rating|\n",
      "+----------+---------+------+\n",
      "|      5890|Bird Cage|   1.0|\n",
      "|      9139|  Cat Toy|   1.0|\n",
      "|      5099|Bird Cage|   1.0|\n",
      "|      5930| Dog Food|   1.0|\n",
      "|      4561|Bird Cage|   1.0|\n",
      "+----------+---------+------+\n",
      "only showing top 5 rows\n",
      "\n"
     ]
    }
   ],
   "source": [
    "from pyspark.sql import functions as F\n",
    "\n",
    "# Выборка и сортировка продуктов по рейтингу\n",
    "extreme_ratings = dim_product.select(\"product_id\", \"name\", \"rating\") \\\n",
    "    .orderBy(\"rating\")\n",
    "\n",
    "# Просмотр первых 5 записей\n",
    "extreme_ratings.show(5)\n",
    "\n",
    "# Запись в ClickHouse\n",
    "extreme_ratings.write \\\n",
    "    .option(\"createTableOptions\", \"ENGINE = MergeTree() ORDER BY (rating)\") \\\n",
    "    .mode(\"overwrite\") \\\n",
    "    .jdbc(url=clickhouse_url, table=\"extreme_ratings\", properties=clickhouse_props)\n"
   ]
  },
  {
   "cell_type": "markdown",
   "id": "52396118-8325-4eff-9668-bedf040ead74",
   "metadata": {},
   "source": [
    "# Корреляция между рейтингом и объемом продаж"
   ]
  },
  {
   "cell_type": "code",
   "execution_count": 59,
   "id": "79d250da-5994-4958-9a64-1cb877f1bf99",
   "metadata": {},
   "outputs": [
    {
     "name": "stdout",
     "output_type": "stream",
     "text": [
      "+----------+------+--------------+\n",
      "|product_id|rating|total_quantity|\n",
      "+----------+------+--------------+\n",
      "|      2460|   1.2|             5|\n",
      "|      8888|   1.2|             4|\n",
      "|      6801|   4.1|             1|\n",
      "|      8365|   2.0|             5|\n",
      "|      4844|   4.8|             4|\n",
      "+----------+------+--------------+\n",
      "only showing top 5 rows\n",
      "\n"
     ]
    }
   ],
   "source": [
    "from pyspark.sql import functions as F\n",
    "\n",
    "fact_sales_clean = fact_sales.select(\"product_id\", \"quantity\") \\\n",
    "    .withColumnRenamed(\"quantity\", \"sale_quantity\")\n",
    "\n",
    "dim_product_clean = dim_product.select(\"product_id\", \"rating\")\n",
    "\n",
    "rating_sales_corr = fact_sales_clean.join(dim_product_clean, \"product_id\") \\\n",
    "    .groupBy(\"product_id\", \"rating\") \\\n",
    "    .agg(F.sum(\"sale_quantity\").alias(\"total_quantity\"))\n",
    "\n",
    "rating_sales_corr.show(5)\n",
    "\n",
    "rating_sales_corr.write \\\n",
    "    .option(\"createTableOptions\", \"ENGINE = MergeTree() ORDER BY (rating)\") \\\n",
    "    .mode(\"overwrite\") \\\n",
    "    .jdbc(url=clickhouse_url, table=\"rating_sales_corr\", properties=clickhouse_props)\n"
   ]
  },
  {
   "cell_type": "markdown",
   "id": "231f5152-3367-419b-92e2-843eae08712b",
   "metadata": {},
   "source": [
    "# Продукты с наибольшим количеством отзывов"
   ]
  },
  {
   "cell_type": "code",
   "execution_count": 60,
   "id": "c12f7e68-42b4-4ed6-88bc-3ec440a2dbd1",
   "metadata": {},
   "outputs": [
    {
     "name": "stdout",
     "output_type": "stream",
     "text": [
      "+----------+--------+-------+\n",
      "|product_id|    name|reviews|\n",
      "+----------+--------+-------+\n",
      "|      2436|Dog Food|   1000|\n",
      "|      2974| Cat Toy|   1000|\n",
      "|      7427| Cat Toy|   1000|\n",
      "|       919|Dog Food|   1000|\n",
      "|      4075| Cat Toy|   1000|\n",
      "+----------+--------+-------+\n",
      "only showing top 5 rows\n",
      "\n"
     ]
    }
   ],
   "source": [
    "from pyspark.sql import functions as F\n",
    "\n",
    "top_reviewed_products = dim_product.select(\"product_id\", \"name\", \"reviews\") \\\n",
    "    .orderBy(F.desc(\"reviews\"))\n",
    "\n",
    "top_reviewed_products.show(5)\n",
    "\n",
    "top_reviewed_products.write \\\n",
    "    .option(\"createTableOptions\", \"ENGINE = MergeTree() ORDER BY (reviews)\") \\\n",
    "    .mode(\"overwrite\") \\\n",
    "    .jdbc(url=clickhouse_url, table=\"top_reviewed_products\", properties=clickhouse_props)\n"
   ]
  },
  {
   "cell_type": "code",
   "execution_count": null,
   "id": "cdcbb880-a30f-46f9-8962-48ff6ae19a17",
   "metadata": {},
   "outputs": [],
   "source": []
  }
 ],
 "metadata": {
  "kernelspec": {
   "display_name": "Python 3 (ipykernel)",
   "language": "python",
   "name": "python3"
  },
  "language_info": {
   "codemirror_mode": {
    "name": "ipython",
    "version": 3
   },
   "file_extension": ".py",
   "mimetype": "text/x-python",
   "name": "python",
   "nbconvert_exporter": "python",
   "pygments_lexer": "ipython3",
   "version": "3.11.6"
  }
 },
 "nbformat": 4,
 "nbformat_minor": 5
}
